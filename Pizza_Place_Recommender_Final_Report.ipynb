{
 "cells": [
  {
   "cell_type": "markdown",
   "metadata": {},
   "source": [
    "## Table of Contents\n",
    "\n",
    "- [Introduction](#1)\n",
    "\n",
    "- [Business Problem](#2)\n",
    "\n",
    "- [Data](#3)\n",
    "\n",
    "- [Methodology](#4)\n",
    "\n",
    "- [Analysis](#5)\n",
    "\n",
    "- [Results and Discussion](#6)\n",
    "\n",
    "- [Conclusion](#7)"
   ]
  },
  {
   "cell_type": "markdown",
   "metadata": {},
   "source": [
    "<a id=\"1\"></a>\n",
    "## 1.Introduction\n",
    "Toronto is the capital city of the Canadian province of Ontario. With a recorded population of 2,731,571 in 2016,it is the most populous city in Canada and the fourth most populous city in North America. The city is the anchor of the Golden Horseshoe, an urban agglomeration of 9,245,438 people (as of 2016) surrounding the western end of Lake Ontario,while the Greater Toronto Area (GTA) proper had a 2016 population of 6,417,516. Toronto is an international centre of business, finance, arts, and culture, and is recognized as one of the most multicultural and cosmopolitan cities in the world."
   ]
  },
  {
   "cell_type": "markdown",
   "metadata": {},
   "source": [
    "Toronto is a prominent centre for music,theatre,motion picture production,and television production, and is home to the headquarters of Canada's major national broadcast networks and media outlets. Its varied cultural institutions, which include numerous museums and galleries, festivals and public events, entertainment districts, national historic sites, and sports activities,attract over 43 million tourists each year.Toronto is known for its many skyscrapers and high-rise buildings,in particular the tallest free-standing structure in the Western Hemisphere, the CN Tower."
   ]
  },
  {
   "cell_type": "markdown",
   "metadata": {},
   "source": [
    "The city is home to the Toronto Stock Exchange, the headquarters of Canada's five largest banks, and the headquarters of many large Canadian and multinational corporations. Its economy is highly diversified with strengths in technology, design, financial services, life sciences, education, arts, fashion, aerospace, environmental innovation, food services, and tourism."
   ]
  },
  {
   "cell_type": "markdown",
   "metadata": {},
   "source": [
    "<a id=\"2\"></a>\n",
    "## 2.Business Problem\n",
    "Restaurant industry is one of the major industries in Canada.Canada's restaurants and bars collectively add up to a large industry,\n",
    "with more than $60 billion in annual sales.<br>\n",
    "In this project, we are trying to find the optimal location for opening a pizza place for stakeholders interested in opening a **restaurant** in **Toronto**, Canada."
   ]
  },
  {
   "cell_type": "markdown",
   "metadata": {},
   "source": [
    "In order to find the best location for a pizza place, we need to consider various factors like which are the places that have high demand for them, we also need to make sure that the neighborhoods that we are selecting are not to crowded with the competitors as it might affect the business."
   ]
  },
  {
   "cell_type": "markdown",
   "metadata": {},
   "source": [
    "We will apply our data science knowledge to find out the optimal locations based on above mentioned criteria. Advantages of each area will then be clearly expressed so that best possible final location can be chosen by stakeholders."
   ]
  },
  {
   "cell_type": "markdown",
   "metadata": {},
   "source": [
    "<a id=\"3\"></a>\n",
    "\n",
    "## 3.Data\n",
    "\n",
    "Based on definition of our problem, factors that will influence our decision are:\n",
    "- All existing restaurants in the neighborhood \n",
    "- Distance of neighborhood from city center"
   ]
  },
  {
   "cell_type": "markdown",
   "metadata": {},
   "source": [
    "Following data sources will be needed to extract/generate the required information:\n",
    "We will be obtaining the broughs and neighbourhoods in Toronto using https://en.wikipedia.org/wiki/List_of_postal_codes_of_Canada:_M by web scrapping method\n",
    "number of restaurants and their type and location in every neighborhood will be obtained using **Foursquare** API"
   ]
  },
  {
   "cell_type": "markdown",
   "metadata": {},
   "source": [
    "<a id=\"4\"></a>\n",
    "## 4.Methodology\n",
    "The main aim of this project is to find the best location to open a pizza place in Toronto, Canada based on the competition in the area and their population."
   ]
  },
  {
   "cell_type": "markdown",
   "metadata": {},
   "source": [
    "We are going to use “K-Means Clustering Algorithm\" to group neighbourhood based on common venues. K-means clustering is a type of unsupervised learning, which is used when you have unlabeled data (i.e., data without defined categories or groups). The goal of this algorithm is to find groups in the data, with the number of groups represented by the variable K. The algorithm works iteratively to assign each data point to one of K groups based on the features that are provided. Data points are clustered based on feature similarity. The results of the K-means clustering algorithm are:"
   ]
  },
  {
   "cell_type": "markdown",
   "metadata": {},
   "source": [
    "The centroids of the K clusters, which can be used to label new data Labels for the training data (each data point is assigned to a single cluster)"
   ]
  },
  {
   "cell_type": "markdown",
   "metadata": {},
   "source": [
    "Also, we will be using different types of maps to give clear idea to the stakeholders."
   ]
  },
  {
   "cell_type": "markdown",
   "metadata": {},
   "source": [
    "Our main aim is to find out neighbourhoods that have low density of pizza places but have great potential for growth."
   ]
  },
  {
   "cell_type": "markdown",
   "metadata": {},
   "source": [
    "Steps that we are going to follow are mentioned below:\n",
    "- We will, analyze the density of the Pizza Places for each neighborhood.\n",
    "- Then we need to find out places that have density of pizza places greater than 30 percentile and density of restaurants greater than 60%.\n",
    "- Then we will provide recommendation to the stakeholder based on the result."
   ]
  },
  {
   "cell_type": "markdown",
   "metadata": {},
   "source": [
    "<a id=\"5\"></a>\n",
    "## 5.Analysis"
   ]
  },
  {
   "cell_type": "markdown",
   "metadata": {},
   "source": [
    "#### Data acquisition and cleaning\n",
    "\n",
    "Here we are using wikipedia page to get data about neighborhoods in Toronto, Canada. Then we will clean the data based on our requirement. "
   ]
  },
  {
   "cell_type": "markdown",
   "metadata": {},
   "source": [
    "#### Combining neighbourhood data with Latitude and Longitude values\n",
    "\n",
    "Now we will combine the neighbourhood data with geospatial data and save them in a new dataframe. This new dataframe will contain Postal code, borough, neighbourhood and latitude, longitude details."
   ]
  },
  {
   "cell_type": "markdown",
   "metadata": {},
   "source": [
    "#### Exploring neighborhoods of Toronto\n",
    "\n",
    "Firstly, we will explore all the neighborhoods in the city of Toronto, using the geospatial data and then using the Foresquare API we will get all the Restaurant venues available in Toronto .Then we will find the top most common restaurant venues in the neighbourhoods. Identify top 10 common restaurant venues for each neighborhood."
   ]
  },
  {
   "cell_type": "markdown",
   "metadata": {},
   "source": [
    "#### Clustering\n",
    "\n",
    "With an assumption of 5 clusters, use K-Cluster algorithm to come up with 5 different clusters in Toronto based on the similarity in their venues. Explore each cluster and determine the discriminating venue categories that distinguish each cluster. Identify the clusters & Neighborhoods that have low density of pizza places but have great potential for growth."
   ]
  },
  {
   "cell_type": "markdown",
   "metadata": {},
   "source": [
    "<a id=\"6\"></a>\n",
    "## 6.Results and Discussion\n",
    "\n",
    "Our analysis shows that there are 4 boroughs and 13 neighborhoods in Toronto, Canada that are ideal for opening a pizza place."
   ]
  },
  {
   "cell_type": "markdown",
   "metadata": {},
   "source": [
    "Five clusters were obtained, each having a unique collection of restaurants. Since, we were focused on finding optimal neighborhoods for opening Pizza places, we selected cluster 1,3 and 4 which had the highest number of Indian restaurants. The above actions left us with the only those neighborhoods that had high demand for Pizza Places."
   ]
  },
  {
   "cell_type": "markdown",
   "metadata": {},
   "source": [
    "After finding out the neighbourhoods with high demand for pizza places, we plotted a heat map for analyzing the density of restaurants in them. Then we found out the neighbourhoods that had few Pizza Places and were not too crowded by other type of restaurants so that business for the stakeholders is not affected due to overcrowding."
   ]
  },
  {
   "cell_type": "markdown",
   "metadata": {},
   "source": [
    "There are chances that few areas that have low density of restaurant might have other reasons that might make them unsuitable for starting a new restaurant chain despite the fact that they are having low competition in that area. Recommended zones should therefore be considered only as a starting point for more detailed analysis which could eventually result in location which has not only no nearby competition but also other factors taken into account and all other relevant conditions met."
   ]
  },
  {
   "cell_type": "markdown",
   "metadata": {},
   "source": [
    "<a id=\"7\"></a>\n",
    "## 7.Conclusion\n",
    "\n",
    "Purpose of this project was to identify areas in Toronto with low number of restaurants in order to aid stakeholders in narrowing down the search for optimal location for a new Pizza Place. By using the Foursquare API to get the restaurant details in neighbourhoods of Toronto and by clustering them on the basis of similarity in the venues, we have shortlisted few neighbourhoods which stakeholders can consider as a starting point for their business. "
   ]
  },
  {
   "cell_type": "markdown",
   "metadata": {},
   "source": [
    "Apart from this, final decision by stakeholders will also be influenced by factors like tourist attractions nearby, proximity to city center,real estate availability etc."
   ]
  }
 ],
 "metadata": {
  "kernelspec": {
   "display_name": "Python",
   "language": "python",
   "name": "conda-env-python-py"
  },
  "language_info": {
   "codemirror_mode": {
    "name": "ipython",
    "version": 3
   },
   "file_extension": ".py",
   "mimetype": "text/x-python",
   "name": "python",
   "nbconvert_exporter": "python",
   "pygments_lexer": "ipython3",
   "version": "3.6.12"
  }
 },
 "nbformat": 4,
 "nbformat_minor": 4
}
